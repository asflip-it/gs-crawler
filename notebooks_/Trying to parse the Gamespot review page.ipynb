{
 "cells": [
  {
   "cell_type": "code",
   "execution_count": 23,
   "metadata": {
    "collapsed": true
   },
   "outputs": [],
   "source": [
    "import requests\n",
    "\n",
    "from bs4 import BeautifulSoup\n",
    "from IPython.core.display import HTML"
   ]
  },
  {
   "cell_type": "code",
   "execution_count": 13,
   "metadata": {
    "collapsed": false
   },
   "outputs": [],
   "source": [
    "headers = {\"User-Agent\": \"Some humble dude/1.0\"}\n",
    "# platform: 19 => PC\n",
    "url = \"https://www.gamespot.com/reviews/?review_filter_type[platform]=19&sort=date&page={page}\".format(page=1)"
   ]
  },
  {
   "cell_type": "code",
   "execution_count": 14,
   "metadata": {
    "collapsed": true
   },
   "outputs": [],
   "source": [
    "page = requests.get(url, headers=headers)"
   ]
  },
  {
   "cell_type": "code",
   "execution_count": 17,
   "metadata": {
    "collapsed": false,
    "scrolled": true
   },
   "outputs": [],
   "source": [
    "soup = BeautifulSoup(page.content, 'lxml')"
   ]
  },
  {
   "cell_type": "code",
   "execution_count": 42,
   "metadata": {
    "collapsed": true
   },
   "outputs": [],
   "source": [
    "def extract_articles_from_page(content):\n",
    "    div = soup.find(id='js-sort-filter-results')\n",
    "    return [article for article in div.section.children]"
   ]
  },
  {
   "cell_type": "code",
   "execution_count": 46,
   "metadata": {
    "collapsed": false
   },
   "outputs": [],
   "source": [
    "articles = extract_articles_from_page(soup)"
   ]
  },
  {
   "cell_type": "code",
   "execution_count": 47,
   "metadata": {
    "collapsed": true
   },
   "outputs": [],
   "source": [
    "sample = articles[1]"
   ]
  },
  {
   "cell_type": "code",
   "execution_count": 148,
   "metadata": {
    "collapsed": false,
    "scrolled": true
   },
   "outputs": [
    {
     "name": "stdout",
     "output_type": "stream",
     "text": [
      "<article class=\"media media-game media-game\">\n",
      " <a class=\"js-event-tracking\" data-event-guid=\"1900-6416687\" data-event-title=\"Endless Space 2 Review\" data-event-tracking=\"Tracking|platform_door_reviews|River|all|p1s1\" href=\"/reviews/endless-space-2-review/1900-6416687/\">\n",
      "  <div class=\"media-well media-well--review \">\n",
      "   <div class=\"media-well--review-gs\">\n",
      "    <div class=\"media-well--review-score\">\n",
      "     <span class=\"content\">\n",
      "      8\n",
      "     </span>\n",
      "    </div>\n",
      "    <span class=\"score-word\">\n",
      "     Great\n",
      "    </span>\n",
      "   </div>\n",
      "  </div>\n",
      "  <figure class=\"media-figure media-figure--medium\">\n",
      "   <div class=\"media-img imgflare--boxart\">\n",
      "    <img alt=\"\" src=\"https://static.gamespot.com/uploads/scale_tiny/536/5360430/3140947-trailer_endlessspace2.jpg\"/>\n",
      "   </div>\n",
      "  </figure>\n",
      "  <div class=\"media-body\">\n",
      "   <h3 class=\"media-title\">\n",
      "    Endless Space 2 Review\n",
      "   </h3>\n",
      "   <div class=\"media-byline hide-mobile\">\n",
      "    <ul class=\"system-list\">\n",
      "     <li class=\"system label\">\n",
      "      Reviewed on:\n",
      "     </li>\n",
      "     <li class=\"system system--pill system--pill system--pc \">\n",
      "      PC\n",
      "     </li>\n",
      "    </ul>\n",
      "   </div>\n",
      "   <p class=\"media-deck\">\n",
      "    Endless Space 2 provides loads of 4X strategizing and space-opera-styled storytelling in this epic about building an intergalactic empire.\n",
      "   </p>\n",
      "   <footer class=\"media-meta\">\n",
      "    <time class=\"media-date\" datetime=\"2017-05-22 14:00:00\">\n",
      "     4 days, 18 hours ago\n",
      "    </time>\n",
      "   </footer>\n",
      "  </div>\n",
      " </a>\n",
      "</article>\n",
      "\n"
     ]
    }
   ],
   "source": [
    "print sample.prettify()"
   ]
  },
  {
   "cell_type": "code",
   "execution_count": 64,
   "metadata": {
    "collapsed": false
   },
   "outputs": [],
   "source": [
    "r = sample.find(name='a', class_='js-event-tracking')"
   ]
  },
  {
   "cell_type": "code",
   "execution_count": 71,
   "metadata": {
    "collapsed": false
   },
   "outputs": [],
   "source": [
    "title = r.attrs['data-event-title'].strip(' Review')"
   ]
  },
  {
   "cell_type": "code",
   "execution_count": 73,
   "metadata": {
    "collapsed": false
   },
   "outputs": [],
   "source": [
    "full_review_url = r.attrs['href']"
   ]
  },
  {
   "cell_type": "code",
   "execution_count": 79,
   "metadata": {
    "collapsed": false
   },
   "outputs": [],
   "source": [
    "score = int(sample.find(name='span', class_='content').string)"
   ]
  },
  {
   "cell_type": "code",
   "execution_count": 82,
   "metadata": {
    "collapsed": false
   },
   "outputs": [],
   "source": [
    "classified_as = sample.find(name='span', class_='score-word').string"
   ]
  },
  {
   "cell_type": "code",
   "execution_count": 126,
   "metadata": {
    "collapsed": false
   },
   "outputs": [],
   "source": [
    "reviewer_platform = sample.select('li.system.label + li')[0].string"
   ]
  },
  {
   "cell_type": "code",
   "execution_count": 143,
   "metadata": {
    "collapsed": false
   },
   "outputs": [],
   "source": [
    "reviewed_on = sample.footer.time.attrs.get('datetime')"
   ]
  },
  {
   "cell_type": "code",
   "execution_count": 144,
   "metadata": {
    "collapsed": false
   },
   "outputs": [],
   "source": [
    "# Date parsing\n",
    "import datetime\n",
    "reviewed_on = datetime.datetime.strptime(reviewed_on, '%Y-%m-%d %H:%M:%S')"
   ]
  },
  {
   "cell_type": "code",
   "execution_count": 152,
   "metadata": {
    "collapsed": false
   },
   "outputs": [],
   "source": [
    "single_phrase_review = sample.find(name='p', class_='media-deck').string"
   ]
  },
  {
   "cell_type": "code",
   "execution_count": 157,
   "metadata": {
    "collapsed": false
   },
   "outputs": [],
   "source": [
    "metadata = {\n",
    "    'title': title,\n",
    "    'full_review_url': full_review_url,\n",
    "    'score': score,\n",
    "    'classified_as': classified_as,\n",
    "    'reviewer_platform': reviewer_platform,\n",
    "    'reviewed_on': reviewed_on,\n",
    "    'single_phrase_review': single_phrase_review\n",
    "}\n"
   ]
  },
  {
   "cell_type": "code",
   "execution_count": 158,
   "metadata": {
    "collapsed": false
   },
   "outputs": [
    {
     "name": "stdout",
     "output_type": "stream",
     "text": [
      "{'classified_as': u'Great', 'title': 'Endless Space 2', 'single_phrase_review': u' Endless Space 2 provides loads of 4X strategizing and space-opera-styled storytelling in this epic about building an intergalactic empire.', 'reviewer_platform': u'PC', 'score': 8, 'reviewed_on': datetime.datetime(2017, 5, 22, 14, 0), 'full_review_url': '/reviews/endless-space-2-review/1900-6416687/'}\n"
     ]
    }
   ],
   "source": [
    "print metadata"
   ]
  }
 ],
 "metadata": {
  "kernelspec": {
   "display_name": "Python 2",
   "language": "python",
   "name": "python2"
  },
  "language_info": {
   "codemirror_mode": {
    "name": "ipython",
    "version": 2
   },
   "file_extension": ".py",
   "mimetype": "text/x-python",
   "name": "python",
   "nbconvert_exporter": "python",
   "pygments_lexer": "ipython2",
   "version": "2.7.13"
  }
 },
 "nbformat": 4,
 "nbformat_minor": 2
}
